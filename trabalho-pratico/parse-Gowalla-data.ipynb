{
 "cells": [
  {
   "cell_type": "code",
   "execution_count": 23,
   "id": "e0d33cff-932b-4548-af0d-a3dcf1b7f124",
   "metadata": {},
   "outputs": [],
   "source": [
    "import duckdb\n",
    "import pandas as pd\n",
    "import networkx as nx\n",
    "import datetime\n",
    "import time\n",
    "import requests\n",
    "import csv"
   ]
  },
  {
   "cell_type": "code",
   "execution_count": 24,
   "id": "6ba1f1e6-dd42-4460-b687-1390b2dac126",
   "metadata": {},
   "outputs": [],
   "source": [
    "#df = pd.read_csv(\"C:/Users/caca_/Desktop/Gowalla_totalCheckins.csv\", sep=\"\t\", nrows=225)\n",
    "#df.columns = ['id_user', 'time', 'latitude', 'longitude' ,'location_id']\n",
    "\n",
    "data = pd.read_csv(\"C:/Users/caca_/Desktop/Gowalla_totalCheckins.csv\", sep=\"\t\")\n",
    "data.columns = ['id_user', 'time', 'latitude', 'longitude' ,'location_id']"
   ]
  },
  {
   "cell_type": "code",
   "execution_count": 25,
   "id": "eab0bf98-b3f8-4e2c-a863-16d1089d9823",
   "metadata": {},
   "outputs": [
    {
     "ename": "BinderException",
     "evalue": "Binder Error: Referenced column \"column1\" not found in FROM clause!\nCandidate bindings: \"data.time\"",
     "output_type": "error",
     "traceback": [
      "\u001b[1;31m---------------------------------------------------------------------------\u001b[0m",
      "\u001b[1;31mBinderException\u001b[0m                           Traceback (most recent call last)",
      "Cell \u001b[1;32mIn[25], line 4\u001b[0m\n\u001b[0;32m      1\u001b[0m \u001b[38;5;66;03m#Buscando o id de todos os usuários com registros no dia do desastre - 01/05/2010 e 02/05/2010\u001b[39;00m\n\u001b[0;32m      2\u001b[0m \n\u001b[0;32m      3\u001b[0m \u001b[38;5;66;03m#res = duckdb.sql(\"SELECT COUNT(column0) FROM data WHERE STRFTIME('%Y-%m-%dT%H:%M:%S', column1) LIKE '2010-05-01T%' OR STRFTIME('%Y-%m-%dT%H:%M:%S', column1) LIKE '2010-05-02T%'\") \u001b[39;00m\n\u001b[1;32m----> 4\u001b[0m res \u001b[38;5;241m=\u001b[39m \u001b[43mduckdb\u001b[49m\u001b[38;5;241;43m.\u001b[39;49m\u001b[43msql\u001b[49m\u001b[43m(\u001b[49m\u001b[38;5;124;43m\"\u001b[39;49m\u001b[38;5;124;43mSELECT column0 FROM data WHERE STRFTIME(\u001b[39;49m\u001b[38;5;124;43m'\u001b[39;49m\u001b[38;5;124;43m%\u001b[39;49m\u001b[38;5;124;43mY-\u001b[39;49m\u001b[38;5;124;43m%\u001b[39;49m\u001b[38;5;124;43mm-\u001b[39;49m\u001b[38;5;132;43;01m%d\u001b[39;49;00m\u001b[38;5;124;43mT\u001b[39;49m\u001b[38;5;124;43m%\u001b[39;49m\u001b[38;5;124;43mH:\u001b[39;49m\u001b[38;5;124;43m%\u001b[39;49m\u001b[38;5;124;43mM:\u001b[39;49m\u001b[38;5;124;43m%\u001b[39;49m\u001b[38;5;124;43mS\u001b[39;49m\u001b[38;5;124;43m'\u001b[39;49m\u001b[38;5;124;43m, column1) LIKE \u001b[39;49m\u001b[38;5;124;43m'\u001b[39;49m\u001b[38;5;124;43m2010-05-01T\u001b[39;49m\u001b[38;5;124;43m%\u001b[39;49m\u001b[38;5;124;43m'\u001b[39;49m\u001b[38;5;124;43m OR STRFTIME(\u001b[39;49m\u001b[38;5;124;43m'\u001b[39;49m\u001b[38;5;124;43m%\u001b[39;49m\u001b[38;5;124;43mY-\u001b[39;49m\u001b[38;5;124;43m%\u001b[39;49m\u001b[38;5;124;43mm-\u001b[39;49m\u001b[38;5;132;43;01m%d\u001b[39;49;00m\u001b[38;5;124;43mT\u001b[39;49m\u001b[38;5;124;43m%\u001b[39;49m\u001b[38;5;124;43mH:\u001b[39;49m\u001b[38;5;124;43m%\u001b[39;49m\u001b[38;5;124;43mM:\u001b[39;49m\u001b[38;5;124;43m%\u001b[39;49m\u001b[38;5;124;43mS\u001b[39;49m\u001b[38;5;124;43m'\u001b[39;49m\u001b[38;5;124;43m, column1) LIKE \u001b[39;49m\u001b[38;5;124;43m'\u001b[39;49m\u001b[38;5;124;43m2010-05-02T\u001b[39;49m\u001b[38;5;124;43m%\u001b[39;49m\u001b[38;5;124;43m'\u001b[39;49m\u001b[38;5;124;43m\"\u001b[39;49m\u001b[43m)\u001b[49m\u001b[38;5;241m.\u001b[39mfetchall()\n\u001b[0;32m      6\u001b[0m lista_ids \u001b[38;5;241m=\u001b[39m \u001b[38;5;28mset\u001b[39m(row[\u001b[38;5;241m0\u001b[39m] \u001b[38;5;28;01mfor\u001b[39;00m row \u001b[38;5;129;01min\u001b[39;00m res)\n\u001b[0;32m      7\u001b[0m \u001b[38;5;28mprint\u001b[39m(\u001b[38;5;28mlen\u001b[39m(lista_ids))\n",
      "\u001b[1;31mBinderException\u001b[0m: Binder Error: Referenced column \"column1\" not found in FROM clause!\nCandidate bindings: \"data.time\""
     ]
    }
   ],
   "source": [
    "#Buscando o id de todos os usuários com registros no dia do desastre - 01/05/2010 e 02/05/2010\n",
    "\n",
    "#res = duckdb.sql(\"SELECT COUNT(column0) FROM data WHERE STRFTIME('%Y-%m-%dT%H:%M:%S', column1) LIKE '2010-05-01T%' OR STRFTIME('%Y-%m-%dT%H:%M:%S', column1) LIKE '2010-05-02T%'\") \n",
    "res = duckdb.sql(\"SELECT column0 FROM data WHERE STRFTIME('%Y-%m-%dT%H:%M:%S', column1) LIKE '2010-05-01T%' OR STRFTIME('%Y-%m-%dT%H:%M:%S', column1) LIKE '2010-05-02T%'\").fetchall()\n",
    "\n",
    "lista_ids = set(row[0] for row in res)\n",
    "print(len(lista_ids))\n"
   ]
  },
  {
   "cell_type": "code",
   "execution_count": 16,
   "id": "9fdbb9bf-c583-4e54-979c-1ea16243ec2a",
   "metadata": {},
   "outputs": [
    {
     "name": "stdout",
     "output_type": "stream",
     "text": [
      "55891\n"
     ]
    }
   ],
   "source": [
    "#Determinando os usuarios que estiveram no Tennessee na data de interesse\n",
    "\n",
    "import geopandas as gpd\n",
    "from shapely.geometry import Point\n",
    "\n",
    "tennessee = gpd.read_file('C:/Users/caca_/Desktop/tennessee.geojson')\n",
    "users = []\n",
    "cont = 0\n",
    "\n",
    "for i in range(len(data)):\n",
    "\n",
    "    latitude = data['latitude'][i]\n",
    "    longitude = data['longitude'][i]\n",
    "\n",
    "    point = Point(longitude, latitude)\n",
    "\n",
    "    # Verificar se o ponto está dentro do polígono do Tennessee\n",
    "    is_inside = point.within(tennessee.geometry.iloc[0])\n",
    "\n",
    "    if is_inside:\n",
    "        users.append(data.iloc[i].tolist())\n",
    "\n",
    "print(len(users))"
   ]
  },
  {
   "cell_type": "code",
   "execution_count": 22,
   "id": "fdcec13e-8b9a-4b70-af54-6f06d10b23b3",
   "metadata": {},
   "outputs": [],
   "source": [
    "with open('arquivo.csv', 'w', newline='', encoding='utf-8') as file:\n",
    "    writer = csv.writer(file)\n",
    "    writer.writerows(users)"
   ]
  },
  {
   "cell_type": "code",
   "execution_count": 31,
   "id": "f7a4a12d-6724-4d10-b175-024f2308e9c3",
   "metadata": {},
   "outputs": [],
   "source": [
    "id = []\n",
    "time = []\n",
    "lat = []\n",
    "long = []\n",
    "places = []\n",
    "\n",
    "users = pd.read_csv(\"usuarios_tennessee.csv\", nrows=500)\n",
    "\n",
    "\n",
    "for i in range(len(users)):\n",
    "    query = f\"SELECT * FROM data WHERE column0 = {i}\"\n",
    "    result = duckdb.sql(query).fetchall()\n",
    "\n",
    "    for j in range(len(result)):\n",
    "        id.append(result[j][0])\n",
    "        time.append(result[j][1]) \n",
    "        lat.append(result[j][2]) \n",
    "        long.append(result[j][3])\n",
    "        places.append(result[j][4])\n",
    "\n",
    "new_data = {\"id\" : id,\n",
    "        \"timestamp\" : time,\n",
    "        \"latitude\" : lat,\n",
    "        \"longitude\" : long,\n",
    "        \"place\" : places\n",
    "}\n",
    "df = pd.DataFrame(new_data)\n",
    "df.to_csv('arquivo_final.csv', index=False)\n"
   ]
  },
  {
   "cell_type": "code",
   "execution_count": null,
   "id": "4871f8f5-0ac9-41f6-899c-83c98b3c3452",
   "metadata": {},
   "outputs": [],
   "source": []
  }
 ],
 "metadata": {
  "kernelspec": {
   "display_name": "Python 3 (ipykernel)",
   "language": "python",
   "name": "python3"
  },
  "language_info": {
   "codemirror_mode": {
    "name": "ipython",
    "version": 3
   },
   "file_extension": ".py",
   "mimetype": "text/x-python",
   "name": "python",
   "nbconvert_exporter": "python",
   "pygments_lexer": "ipython3",
   "version": "3.11.5"
  }
 },
 "nbformat": 4,
 "nbformat_minor": 5
}
